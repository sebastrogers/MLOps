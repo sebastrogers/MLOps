{
 "cells": [
  {
   "cell_type": "code",
   "execution_count": 1,
   "metadata": {},
   "outputs": [],
   "source": [
    "import requests\n",
    "import pandas as pd"
   ]
  },
  {
   "cell_type": "code",
   "execution_count": 2,
   "metadata": {},
   "outputs": [],
   "source": [
    "credito = pd.read_csv(\"Credit.csv\")"
   ]
  },
  {
   "cell_type": "code",
   "execution_count": 3,
   "metadata": {},
   "outputs": [],
   "source": [
    "for col in credito.columns:\n",
    "    if credito[col].dtype == 'object':\n",
    "        credito[col] = credito[col].astype('category').cat.codes"
   ]
  },
  {
   "cell_type": "code",
   "execution_count": 4,
   "metadata": {},
   "outputs": [],
   "source": [
    "dados = credito.iloc[0:10,0:20].to_json(orient='split')"
   ]
  },
  {
   "cell_type": "code",
   "execution_count": 5,
   "metadata": {},
   "outputs": [
    {
     "data": {
      "text/plain": [
       "'{\"columns\":[\"checking_status\",\"duration\",\"credit_history\",\"purpose\",\"credit_amount\",\"savings_status\",\"employment\",\"installment_commitment\",\"personal_status\",\"other_parties\",\"residence_since\",\"property_magnitude\",\"age\",\"other_payment_plans\",\"housing\",\"existing_credits\",\"job\",\"num_dependents\",\"own_telephone\",\"foreign_worker\"],\"index\":[0,1,2,3,4,5,6,7,8,9],\"data\":[[2,6,1,7,1169,0,3,4,3,2,4,2,67,1,1,2,3,1,1,1],[1,48,3,7,5951,3,0,2,0,2,2,2,22,1,1,1,3,1,0,1],[0,12,1,4,2096,3,1,2,3,2,3,2,49,1,1,1,2,2,0,1],[2,42,3,5,7882,3,1,2,3,1,4,0,45,1,0,1,3,2,0,1],[2,24,2,1,4870,3,0,3,3,2,4,1,53,1,0,2,3,2,0,1],[0,36,3,4,9055,0,0,2,3,2,4,1,35,1,0,1,2,2,1,1],[0,24,3,5,2835,2,3,3,3,2,4,0,53,1,1,1,3,1,0,1],[1,36,3,2,6948,3,0,2,3,2,2,3,35,1,2,1,0,1,1,1],[0,12,3,7,3059,4,1,2,1,2,4,2,61,1,1,1,2,1,0,1],[1,30,1,1,5234,3,4,4,2,2,2,3,28,1,1,2,0,1,0,1]]}'"
      ]
     },
     "execution_count": 5,
     "metadata": {},
     "output_type": "execute_result"
    }
   ],
   "source": [
    "dados"
   ]
  },
  {
   "cell_type": "code",
   "execution_count": 6,
   "metadata": {},
   "outputs": [],
   "source": [
    "previsao = requests.post(url='http://localhost:2345/invocations', \n",
    "                         headers={'Content-Type' : 'application/json' , }, data=dados)"
   ]
  },
  {
   "cell_type": "code",
   "execution_count": 7,
   "metadata": {},
   "outputs": [
    {
     "data": {
      "text/plain": [
       "<Response [200]>"
      ]
     },
     "execution_count": 7,
     "metadata": {},
     "output_type": "execute_result"
    }
   ],
   "source": [
    "previsao"
   ]
  },
  {
   "cell_type": "code",
   "execution_count": 8,
   "metadata": {},
   "outputs": [
    {
     "data": {
      "text/plain": [
       "'[1, 0, 1, 0, 1, 0, 1, 0, 1, 1]'"
      ]
     },
     "execution_count": 8,
     "metadata": {},
     "output_type": "execute_result"
    }
   ],
   "source": [
    "previsao.text"
   ]
  },
  {
   "cell_type": "code",
   "execution_count": null,
   "metadata": {},
   "outputs": [],
   "source": []
  }
 ],
 "metadata": {
  "kernelspec": {
   "display_name": "Python 3 (ipykernel)",
   "language": "python",
   "name": "python3"
  },
  "language_info": {
   "codemirror_mode": {
    "name": "ipython",
    "version": 3
   },
   "file_extension": ".py",
   "mimetype": "text/x-python",
   "name": "python",
   "nbconvert_exporter": "python",
   "pygments_lexer": "ipython3",
   "version": "3.9.12"
  }
 },
 "nbformat": 4,
 "nbformat_minor": 4
}
